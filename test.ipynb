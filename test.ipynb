{
 "cells": [
  {
   "cell_type": "code",
   "execution_count": 1,
   "metadata": {},
   "outputs": [],
   "source": [
    "import pandas as pd"
   ]
  },
  {
   "cell_type": "code",
   "execution_count": 4,
   "metadata": {},
   "outputs": [
    {
     "data": {
      "text/html": [
       "<div>\n",
       "<style scoped>\n",
       "    .dataframe tbody tr th:only-of-type {\n",
       "        vertical-align: middle;\n",
       "    }\n",
       "\n",
       "    .dataframe tbody tr th {\n",
       "        vertical-align: top;\n",
       "    }\n",
       "\n",
       "    .dataframe thead th {\n",
       "        text-align: right;\n",
       "    }\n",
       "</style>\n",
       "<table border=\"1\" class=\"dataframe\">\n",
       "  <thead>\n",
       "    <tr style=\"text-align: right;\">\n",
       "      <th></th>\n",
       "      <th>MIM Number</th>\n",
       "      <th>Preferred Title</th>\n",
       "      <th>symbol</th>\n",
       "    </tr>\n",
       "  </thead>\n",
       "  <tbody>\n",
       "    <tr>\n",
       "      <th>0</th>\n",
       "      <td>100050</td>\n",
       "      <td>AARSKOG SYNDROME, AUTOSOMAL DOMINANT</td>\n",
       "      <td>NaN</td>\n",
       "    </tr>\n",
       "    <tr>\n",
       "      <th>1</th>\n",
       "      <td>100070</td>\n",
       "      <td>AORTIC ANEURYSM, FAMILIAL ABDOMINAL, 1</td>\n",
       "      <td>AAA1</td>\n",
       "    </tr>\n",
       "    <tr>\n",
       "      <th>2</th>\n",
       "      <td>100100</td>\n",
       "      <td>PRUNE BELLY SYNDROME</td>\n",
       "      <td>PBS</td>\n",
       "    </tr>\n",
       "    <tr>\n",
       "      <th>3</th>\n",
       "      <td>100200</td>\n",
       "      <td>ABDUCENS PALSY</td>\n",
       "      <td>NaN</td>\n",
       "    </tr>\n",
       "    <tr>\n",
       "      <th>4</th>\n",
       "      <td>100300</td>\n",
       "      <td>ADAMS-OLIVER SYNDROME 1</td>\n",
       "      <td>AOS1</td>\n",
       "    </tr>\n",
       "  </tbody>\n",
       "</table>\n",
       "</div>"
      ],
      "text/plain": [
       "   MIM Number                         Preferred Title symbol\n",
       "0      100050    AARSKOG SYNDROME, AUTOSOMAL DOMINANT    NaN\n",
       "1      100070  AORTIC ANEURYSM, FAMILIAL ABDOMINAL, 1   AAA1\n",
       "2      100100                    PRUNE BELLY SYNDROME    PBS\n",
       "3      100200                          ABDUCENS PALSY    NaN\n",
       "4      100300                 ADAMS-OLIVER SYNDROME 1   AOS1"
      ]
     },
     "execution_count": 4,
     "metadata": {},
     "output_type": "execute_result"
    }
   ],
   "source": [
    "df = pd.read_csv('data/mimTitles.csv')\n",
    "df.head()"
   ]
  },
  {
   "cell_type": "code",
   "execution_count": null,
   "metadata": {},
   "outputs": [
    {
     "data": {
      "text/html": [
       "<div>\n",
       "<style scoped>\n",
       "    .dataframe tbody tr th:only-of-type {\n",
       "        vertical-align: middle;\n",
       "    }\n",
       "\n",
       "    .dataframe tbody tr th {\n",
       "        vertical-align: top;\n",
       "    }\n",
       "\n",
       "    .dataframe thead th {\n",
       "        text-align: right;\n",
       "    }\n",
       "</style>\n",
       "<table border=\"1\" class=\"dataframe\">\n",
       "  <thead>\n",
       "    <tr style=\"text-align: right;\">\n",
       "      <th></th>\n",
       "      <th>MIM Number</th>\n",
       "      <th>Preferred Title</th>\n",
       "      <th>symbol</th>\n",
       "    </tr>\n",
       "  </thead>\n",
       "  <tbody>\n",
       "    <tr>\n",
       "      <th>0</th>\n",
       "      <td>100050</td>\n",
       "      <td>AARSKOG SYNDROME, AUTOSOMAL DOMINANT</td>\n",
       "      <td>NaN</td>\n",
       "    </tr>\n",
       "    <tr>\n",
       "      <th>1</th>\n",
       "      <td>100070</td>\n",
       "      <td>AORTIC ANEURYSM, FAMILIAL ABDOMINAL, 1</td>\n",
       "      <td>AAA1</td>\n",
       "    </tr>\n",
       "    <tr>\n",
       "      <th>2</th>\n",
       "      <td>100100</td>\n",
       "      <td>PRUNE BELLY SYNDROME</td>\n",
       "      <td>PBS</td>\n",
       "    </tr>\n",
       "    <tr>\n",
       "      <th>3</th>\n",
       "      <td>100200</td>\n",
       "      <td>ABDUCENS PALSY</td>\n",
       "      <td>NaN</td>\n",
       "    </tr>\n",
       "    <tr>\n",
       "      <th>4</th>\n",
       "      <td>100300</td>\n",
       "      <td>ADAMS-OLIVER SYNDROME 1</td>\n",
       "      <td>AOS1</td>\n",
       "    </tr>\n",
       "  </tbody>\n",
       "</table>\n",
       "</div>"
      ],
      "text/plain": [
       "   MIM Number                         Preferred Title symbol\n",
       "0      100050    AARSKOG SYNDROME, AUTOSOMAL DOMINANT    NaN\n",
       "1      100070  AORTIC ANEURYSM, FAMILIAL ABDOMINAL, 1   AAA1\n",
       "2      100100                    PRUNE BELLY SYNDROME    PBS\n",
       "3      100200                          ABDUCENS PALSY    NaN\n",
       "4      100300                 ADAMS-OLIVER SYNDROME 1   AOS1"
      ]
     },
     "execution_count": 5,
     "metadata": {},
     "output_type": "execute_result"
    }
   ],
   "source": [
    "import re\n",
    "\n",
    "# Create a mapping of MIM Numbers to Preferred Titles\n",
    "mim_to_title = dict(zip(df['MIM Number'], df['Preferred Title']))\n",
    "\n",
    "# Function to get the final title for a MIM Number, handling circular references\n",
    "\n",
    "\n",
    "def get_final_title(mim_number, visited=None):\n",
    "    if visited is None:\n",
    "        visited = set()\n",
    "\n",
    "    if mim_number in visited:\n",
    "        return f\"[CIRCULAR REFERENCE: {mim_number}]\"\n",
    "\n",
    "    visited.add(mim_number)\n",
    "\n",
    "    title = mim_to_title.get(mim_number)\n",
    "    if isinstance(title, str) and 'MOVED TO' in title:\n",
    "        match = re.search(r'MOVED TO (\\d+)', title)\n",
    "        if match:\n",
    "            new_mim = int(match.group(1))\n",
    "            return get_final_title(new_mim, visited)\n",
    "    return title\n",
    "\n",
    "# Function to replace \"MOVED TO [MIM Number]\" with the title of that MIM Number\n",
    "\n",
    "\n",
    "def replace_moved_to(title):\n",
    "    if isinstance(title, str) and 'MOVED TO' in title:\n",
    "        match = re.search(r'MOVED TO (\\d+)', title)\n",
    "        if match:\n",
    "            mim_number = int(match.group(1))\n",
    "            final_title = get_final_title(mim_number)\n",
    "            if final_title:\n",
    "                return final_title\n",
    "    return title\n",
    "\n",
    "\n",
    "# Apply the function to update the 'Preferred Title' column\n",
    "df['Preferred Title'] = df['Preferred Title'].apply(replace_moved_to)\n",
    "\n",
    "# Display the first few rows to verify the changes\n",
    "df.head()"
   ]
  },
  {
   "cell_type": "code",
   "execution_count": 9,
   "metadata": {},
   "outputs": [],
   "source": [
    "df.to_csv('data/mimTitles.csv')"
   ]
  },
  {
   "cell_type": "code",
   "execution_count": 8,
   "metadata": {
    "vscode": {
     "languageId": "sql"
    }
   },
   "outputs": [
    {
     "name": "stdout",
     "output_type": "stream",
     "text": [
      "Found 118 entries with 'REMOVED FROM DATABASE'\n",
      "Updated 118 entries to 'TITLE NOT AVAILABLE AT THIS MOMENT'\n",
      "\n",
      "Examples of updated entries:\n",
      "     MIM Number                     Preferred Title symbol\n",
      "58       102570  TITLE NOT AVAILABLE AT THIS MOMENT    NaN\n",
      "98       102920  TITLE NOT AVAILABLE AT THIS MOMENT    NaN\n",
      "99       102930  TITLE NOT AVAILABLE AT THIS MOMENT    NaN\n",
      "100      102940  TITLE NOT AVAILABLE AT THIS MOMENT    NaN\n",
      "101      102970  TITLE NOT AVAILABLE AT THIS MOMENT    NaN\n"
     ]
    }
   ],
   "source": [
    "# Count occurrences of \"REMOVED FROM DATABASE\"\n",
    "removed_count = (df['Preferred Title'] == \"REMOVED FROM DATABASE\").sum()\n",
    "print(f\"Found {removed_count} entries with 'REMOVED FROM DATABASE'\")\n",
    "\n",
    "# Replace \"REMOVED FROM DATABASE\" with \"TITLE NOT AVAILABLE AT THIS MOMENT\"\n",
    "df['Preferred Title'] = df['Preferred Title'].replace(\"REMOVED FROM DATABASE\", \"TITLE NOT AVAILABLE AT THIS MOMENT\")\n",
    "\n",
    "# Verify the changes\n",
    "updated_count = (df['Preferred Title'] == \"TITLE NOT AVAILABLE AT THIS MOMENT\").sum()\n",
    "print(f\"Updated {updated_count} entries to 'TITLE NOT AVAILABLE AT THIS MOMENT'\")\n",
    "\n",
    "# Display a few examples if available\n",
    "if updated_count > 0:\n",
    "    print(\"\\nExamples of updated entries:\")\n",
    "    print(df[df['Preferred Title'] == \"TITLE NOT AVAILABLE AT THIS MOMENT\"].head())"
   ]
  },
  {
   "cell_type": "code",
   "execution_count": null,
   "metadata": {
    "vscode": {
     "languageId": "sql"
    }
   },
   "outputs": [],
   "source": [
    "df.to_csv('')"
   ]
  }
 ],
 "metadata": {
  "kernelspec": {
   "display_name": "Python 3",
   "language": "python",
   "name": "python3"
  },
  "language_info": {
   "codemirror_mode": {
    "name": "ipython",
    "version": 3
   },
   "file_extension": ".py",
   "mimetype": "text/x-python",
   "name": "python",
   "nbconvert_exporter": "python",
   "pygments_lexer": "ipython3",
   "version": "3.8.20"
  }
 },
 "nbformat": 4,
 "nbformat_minor": 2
}
